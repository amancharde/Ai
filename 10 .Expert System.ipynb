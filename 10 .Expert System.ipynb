{
 "cells": [
  {
   "cell_type": "code",
   "execution_count": 7,
   "id": "09988f5a",
   "metadata": {
    "scrolled": true
   },
   "outputs": [
    {
     "name": "stdout",
     "output_type": "stream",
     "text": [
      "Welcome to the Help Desk Expert System!\n",
      "Please select a category: network, software, or hardware\n",
      "Category: network\n",
      "Please describe the issue briefly.\n",
      "Issue: connectoin failed\n",
      "Solution: Sorry, I cannot provide a solution for that specific issue.\n"
     ]
    }
   ],
   "source": [
    "class HelpDeskExpertSystem:\n",
    "    def __init__(self):\n",
    "        self.knowledge_base = {\n",
    "            \"network\": {\n",
    "                \"slow\": \"Check network cables and connections.\",\n",
    "                \"no_connection\": \"Reset your router and modem.\",\n",
    "                \"intermittent\": \"Contact your internet service provider (ISP).\"\n",
    "            },\n",
    "            \"software\": {\n",
    "                \"crashing\": \"Try reinstalling the software.\",\n",
    "                \"error_message\": \"Search for the error message online for troubleshooting steps.\",\n",
    "                \"compatibility\": \"Check if the software is compatible with your operating system.\"\n",
    "            },\n",
    "            \"hardware\": {\n",
    "                \"not_powering_on\": \"Check if the power cable is properly connected.\",\n",
    "                \"overheating\": \"Clean the fans and ensure proper ventilation.\",\n",
    "                \"no_display\": \"Check the connections between your computer and monitor.\"\n",
    "            }\n",
    "        }\n",
    "\n",
    "    def get_solution(self, category, issue):\n",
    "        if category in self.knowledge_base and issue in self.knowledge_base[category]:\n",
    "            return self.knowledge_base[category][issue]\n",
    "        else:\n",
    "            return \"Sorry, I cannot provide a solution for that specific issue.\"\n",
    "\n",
    "    def print_solution(self, solution):\n",
    "        print(\"Solution:\", solution)\n",
    "\n",
    "\n",
    "# Example usage\n",
    "help_desk = HelpDeskExpertSystem()\n",
    "\n",
    "print(\"Welcome to the Help Desk Expert System!\")\n",
    "print(\"Please select a category: network, software, or hardware\")\n",
    "category = input(\"Category: \")\n",
    "\n",
    "print(\"Please describe the issue briefly.\")\n",
    "issue = input(\"Issue: \")\n",
    "\n",
    "solution = help_desk.get_solution(category, issue)\n",
    "help_desk.print_solution(solution)\n"
   ]
  },
  {
   "cell_type": "code",
   "execution_count": null,
   "id": "dd187904",
   "metadata": {},
   "outputs": [],
   "source": []
  }
 ],
 "metadata": {
  "kernelspec": {
   "display_name": "Python 3 (ipykernel)",
   "language": "python",
   "name": "python3"
  },
  "language_info": {
   "codemirror_mode": {
    "name": "ipython",
    "version": 3
   },
   "file_extension": ".py",
   "mimetype": "text/x-python",
   "name": "python",
   "nbconvert_exporter": "python",
   "pygments_lexer": "ipython3",
   "version": "3.10.9"
  }
 },
 "nbformat": 4,
 "nbformat_minor": 5
}
